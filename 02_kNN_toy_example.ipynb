{
 "cells": [
  {
   "cell_type": "code",
   "execution_count": 1,
   "metadata": {},
   "outputs": [],
   "source": [
    "# We're going to start with a very simple example\n",
    "\n",
    "# We will create a small data set of SIX points that carry one of TWO labels\n",
    "\n",
    "# We will use NumPy, a package of numerical computing tools in Python\n",
    "import numpy   # https://numpy.org/ \n",
    "\n",
    "# Our points have only TWO features (each of the SIX data points has TWO coordinates) \n",
    "X = numpy.array([[1,1],\n",
    "              [1,2],\n",
    "              [2,2],\n",
    "              [6,8],\n",
    "              [8,8],\n",
    "              [9,11]\n",
    "             ])\n",
    "\n",
    "# Our points also have ONE OF TWO labels: the first three points get labeled with \"0\", the last three with \"1\"\n",
    "y = numpy.array([0,0,0,1,1,1])"
   ]
  },
  {
   "cell_type": "code",
   "execution_count": 2,
   "metadata": {},
   "outputs": [
    {
     "data": {
      "image/png": "[encoded data removed]",
      "text/plain": [
       "<Figure size 640x480 with 1 Axes>"
      ]
     },
     "metadata": {},
     "output_type": "display_data"
    }
   ],
   "source": [
    "# Let's plot X to see what the data look like \n",
    "\n",
    "# We can use MatPlotLib, a comprehensive library for creating visualizations in Python \n",
    "# \"Matplotlib makes easy things easy and hard things possible\" https://matplotlib.org/ \n",
    "# pyplot is a module within MatPlotLib for generating plots     \n",
    "import matplotlib.pyplot as plt # create an alias to shorten the name\n",
    "\n",
    "# Now create a scatter plot of the data features X and color the points in the plot according to their label y\n",
    "plt.figure()\n",
    "plt.scatter(X[:,0], X[:,1], c=y) \n",
    "plt.show()"
   ]
  },
  {
   "cell_type": "code",
   "execution_count": 3,
   "metadata": {},
   "outputs": [
    {
     "name": "stdout",
     "output_type": "stream",
     "text": [
      "Working on model fitting...\n",
      "Done!\n"
     ]
    }
   ],
   "source": [
    "# We are ready to train the K Nearest Neighbors model\n",
    "\n",
    "# We will use a template model from the scikit-learn library, an open source machine learning library. \n",
    "# https://scikit-learn.org/stable/index.html\n",
    "import sklearn  \n",
    "from sklearn.neighbors import KNeighborsClassifier   # we will use the kNN classifier model template\n",
    "\n",
    "kNN = KNeighborsClassifier(n_neighbors=3)  # Our model will only consider the THREE nearest neighbors\n",
    "# more info at https://scikit-learn.org/stable/modules/generated/sklearn.neighbors.KNeighborsClassifier.html\n",
    "\n",
    "print('Working on model fitting...')\n",
    "kNN.fit(X,y)  #  this is all it takes!\n",
    "print('Done!')"
   ]
  },
  {
   "cell_type": "code",
   "execution_count": 4,
   "metadata": {},
   "outputs": [
    {
     "name": "stdout",
     "output_type": "stream",
     "text": [
      "Input for testing is: \n",
      "[8, 9]\n",
      "Predicted label is: \n",
      "[1]\n"
     ]
    }
   ],
   "source": [
    "# Time to make predictions\n",
    "\n",
    "X_test = [8, 9]  # Let's start with a new \"test\" point\n",
    "print('Input for testing is: ')\n",
    "print(X_test)\n",
    "\n",
    "predicted_y = kNN.predict([X_test])  # We're hoping this predicts a \"1\", since this is a \"top and to the right\" point.\n",
    "\n",
    "print('Predicted label is: ')\n",
    "print(predicted_y)   #  done!"
   ]
  },
  {
   "cell_type": "code",
   "execution_count": 9,
   "metadata": {},
   "outputs": [
    {
     "name": "stdout",
     "output_type": "stream",
     "text": [
      "Input for testing is: \n",
      "[1.5, 1.5]\n",
      "Predicted label is: \n",
      "[0]\n"
     ]
    }
   ],
   "source": [
    "X_test = [1.5, 1.5]  # Let's try another \"test\" point\n",
    "print('Input for testing is: ')\n",
    "print(X_test)\n",
    "\n",
    "predicted_y = kNN.predict([X_test])  # We're hoping this predicts a \"0\", since this is a \"lower left\" point.\n",
    "\n",
    "print('Predicted label is: ')\n",
    "print(predicted_y)   #  done!"
   ]
  },
  {
   "cell_type": "code",
   "execution_count": 79,
   "metadata": {},
   "outputs": [
    {
     "name": "stdout",
     "output_type": "stream",
     "text": [
      "Input for testing is: \n",
      "[9, 9]\n",
      "Predicted label is: \n",
      "[1]\n"
     ]
    }
   ],
   "source": [
    "X_test2 = [9, 9]  # Let's try another \"test\" point\n",
    "print('Input for testing is: ')\n",
    "print(X_test2)\n",
    "\n",
    "predicted_y2 = kNN.predict([X_test2])  # We're hoping this predicts a \"0\", since this is a \"lower left\" point.\n",
    "\n",
    "print('Predicted label is: ')\n",
    "print(predicted_y2)   #  done!"
   ]
  },
  {
   "cell_type": "code",
   "execution_count": 80,
   "metadata": {},
   "outputs": [
    {
     "data": {
      "image/png": "[encoded data removed]",
      "text/plain": [
       "<Figure size 640x480 with 1 Axes>"
      ]
     },
     "metadata": {},
     "output_type": "display_data"
    }
   ],
   "source": [
    "# Let's plot the points again, with the test point this time\n",
    "\n",
    "plt.figure()\n",
    "plt.scatter(X[:,0], X[:,1], c=y)                                    # the training points are marked with circles\n",
    "plt.scatter(X_test[0], X_test[1], c=predicted_y[0], marker='*')\n",
    "plt.scatter(X_test2[0], X_test2[1], c=predicted_y2[0], marker='x')     # the test point is marked with an x\n",
    "plt.show()"
   ]
  },
  {
   "cell_type": "code",
   "execution_count": 101,
   "metadata": {},
   "outputs": [
    {
     "name": "stdout",
     "output_type": "stream",
     "text": [
      "0\n",
      "0\n",
      "0\n",
      "0\n",
      "0\n",
      "1\n",
      "1\n",
      "1\n",
      "1\n",
      "1\n",
      "[[0. 0.]\n",
      " [1. 1.]\n",
      " [2. 2.]\n",
      " [3. 3.]\n",
      " [4. 4.]\n",
      " [5. 5.]\n",
      " [6. 6.]\n",
      " [7. 7.]\n",
      " [8. 8.]\n",
      " [9. 9.]]\n",
      "[0. 0. 0. 0. 0. 1. 1. 1. 1. 1.]\n"
     ]
    },
    {
     "name": "stderr",
     "output_type": "stream",
     "text": [
      "/tmp/ipykernel_419476/4294878776.py:12: DeprecationWarning: Conversion of an array with ndim > 0 to a scalar is deprecated, and will error in future. Ensure you extract a single element from your array before performing this operation. (Deprecated NumPy 1.25.)\n",
      "  predict_y[i] = kNN.predict([abc[i]])\n",
      "/tmp/ipykernel_419476/4294878776.py:12: DeprecationWarning: Conversion of an array with ndim > 0 to a scalar is deprecated, and will error in future. Ensure you extract a single element from your array before performing this operation. (Deprecated NumPy 1.25.)\n",
      "  predict_y[i] = kNN.predict([abc[i]])\n",
      "/tmp/ipykernel_419476/4294878776.py:12: DeprecationWarning: Conversion of an array with ndim > 0 to a scalar is deprecated, and will error in future. Ensure you extract a single element from your array before performing this operation. (Deprecated NumPy 1.25.)\n",
      "  predict_y[i] = kNN.predict([abc[i]])\n",
      "/tmp/ipykernel_419476/4294878776.py:12: DeprecationWarning: Conversion of an array with ndim > 0 to a scalar is deprecated, and will error in future. Ensure you extract a single element from your array before performing this operation. (Deprecated NumPy 1.25.)\n",
      "  predict_y[i] = kNN.predict([abc[i]])\n",
      "/tmp/ipykernel_419476/4294878776.py:12: DeprecationWarning: Conversion of an array with ndim > 0 to a scalar is deprecated, and will error in future. Ensure you extract a single element from your array before performing this operation. (Deprecated NumPy 1.25.)\n",
      "  predict_y[i] = kNN.predict([abc[i]])\n",
      "/tmp/ipykernel_419476/4294878776.py:12: DeprecationWarning: Conversion of an array with ndim > 0 to a scalar is deprecated, and will error in future. Ensure you extract a single element from your array before performing this operation. (Deprecated NumPy 1.25.)\n",
      "  predict_y[i] = kNN.predict([abc[i]])\n",
      "/tmp/ipykernel_419476/4294878776.py:12: DeprecationWarning: Conversion of an array with ndim > 0 to a scalar is deprecated, and will error in future. Ensure you extract a single element from your array before performing this operation. (Deprecated NumPy 1.25.)\n",
      "  predict_y[i] = kNN.predict([abc[i]])\n",
      "/tmp/ipykernel_419476/4294878776.py:12: DeprecationWarning: Conversion of an array with ndim > 0 to a scalar is deprecated, and will error in future. Ensure you extract a single element from your array before performing this operation. (Deprecated NumPy 1.25.)\n",
      "  predict_y[i] = kNN.predict([abc[i]])\n",
      "/tmp/ipykernel_419476/4294878776.py:12: DeprecationWarning: Conversion of an array with ndim > 0 to a scalar is deprecated, and will error in future. Ensure you extract a single element from your array before performing this operation. (Deprecated NumPy 1.25.)\n",
      "  predict_y[i] = kNN.predict([abc[i]])\n",
      "/tmp/ipykernel_419476/4294878776.py:12: DeprecationWarning: Conversion of an array with ndim > 0 to a scalar is deprecated, and will error in future. Ensure you extract a single element from your array before performing this operation. (Deprecated NumPy 1.25.)\n",
      "  predict_y[i] = kNN.predict([abc[i]])\n"
     ]
    }
   ],
   "source": [
    "abc = numpy.zeros((10,2))\n",
    "#print(abc)\n",
    "predict_y = numpy.zeros(10)\n",
    "\n",
    "for i in range(10):\n",
    "    a = []\n",
    "    for j in range(2):\n",
    "        a.append(int(i))\n",
    "        abc[i][j] = i\n",
    "        #print(abc[i][j])\n",
    "    #abc[]\n",
    "    predict_y[i] = kNN.predict([abc[i]])\n",
    "    print(int(predict_y[i]))\n",
    "print(abc)\n",
    "print(predict_y)"
   ]
  },
  {
   "cell_type": "code",
   "execution_count": 108,
   "metadata": {},
   "outputs": [
    {
     "data": {
      "image/png": "[encoded data removed]",
      "text/plain": [
       "<Figure size 640x480 with 1 Axes>"
      ]
     },
     "metadata": {},
     "output_type": "display_data"
    }
   ],
   "source": [
    "plt.figure()\n",
    "# the training points are marked with circles\n",
    "for i in range(10):\n",
    "    plt.scatter(abc[:,0], abc[:,1], marker = '*')\n",
    "plt.scatter(X[:,0], X[:,1], c=y)\n",
    "plt.show()"
   ]
  },
  {
   "cell_type": "code",
   "execution_count": null,
   "metadata": {},
   "outputs": [],
   "source": []
  }
 ],
 "metadata": {
  "kernelspec": {
   "display_name": "Python 3 (ipykernel)",
   "language": "python",
   "name": "python3"
  },
  "language_info": {
   "codemirror_mode": {
    "name": "ipython",
    "version": 3
   },
   "file_extension": ".py",
   "mimetype": "text/x-python",
   "name": "python",
   "nbconvert_exporter": "python",
   "pygments_lexer": "ipython3",
   "version": "3.12.7"
  }
 },
 "nbformat": 4,
 "nbformat_minor": 4
}
