{
 "cells": [
  {
   "cell_type": "code",
   "execution_count": null,
   "metadata": {},
   "outputs": [],
   "source": [
    "import numpy as np\n",
    "import matplotlib.pyplot as plt"
   ]
  },
  {
   "cell_type": "code",
   "execution_count": null,
   "metadata": {},
   "outputs": [],
   "source": [
    "# we create 40 separable points\n",
    "from sklearn.datasets import make_blobs\n",
    "X, y = make_blobs(n_samples=40, centers=2, random_state=6)\n",
    "\n",
    "# plot the data\n",
    "plt.scatter(X[:, 0], X[:, 1], c=y)\n",
    "plt.show()\n",
    "\n",
    "# and import the SVM model family template\n",
    "from sklearn import svm"
   ]
  },
  {
   "cell_type": "code",
   "execution_count": null,
   "metadata": {},
   "outputs": [],
   "source": [
    "# fit the first model variation\n",
    "\n",
    "clf1 = svm.SVC(kernel='linear', C=1000)   # large C means little to no regularization, default = 1.0\n",
    "clf1.fit(X, y)\n",
    "\n",
    "fig = plt.figure()\n",
    "\n",
    "# Plot the points\n",
    "plt.scatter(X[:, 0], X[:, 1], c=y)\n",
    "\n",
    "# Create a mesh (grid of points) for plotting the decision function Z\n",
    "xlim = plt.gca().get_xlim()\n",
    "ylim = plt.gca().get_ylim()\n",
    "xx, yy = np.meshgrid(np.linspace(xlim[0], xlim[1]), np.linspace(ylim[0], ylim[1]))\n",
    "Z = clf1.decision_function(np.c_[xx.ravel(), yy.ravel()])\n",
    "Z = Z.reshape(xx.shape)\n",
    "\n",
    "# Plot the decision function Z using contour plot\n",
    "\n",
    "plt.contour(xx, yy, Z, \n",
    "            levels=[-1, 0, 1], # contour lines at the decision boundary (level 0) and the margins (levels 1 and -1)\n",
    "            linestyles=['--', '-', '--'], # contour lines at the decision boundary (solid) and the margins (dashed)\n",
    "            colors='k')\n",
    "\n",
    "# Highlight support vectors\n",
    "plt.scatter(clf1.support_vectors_[:, 0], clf1.support_vectors_[:, 1], s=100, facecolors='none', edgecolors='k')\n",
    "\n",
    "plt.title('SVM Decision Function and Margins')\n",
    "plt.show()\n"
   ]
  },
  {
   "cell_type": "code",
   "execution_count": null,
   "metadata": {},
   "outputs": [],
   "source": [
    "# fit the second model variation\n",
    "\n",
    "clf3 = svm.SVC(kernel='rbf', gamma=0.1, C=1000) # using a Gaussian kernel \n",
    "clf3.fit(X, y)\n",
    "\n",
    "fig = plt.figure()\n",
    "\n",
    "# Plot the points\n",
    "plt.scatter(X[:, 0], X[:, 1], c=y)\n",
    "\n",
    "# Create a mesh (grid of points) for plotting the decision function Z\n",
    "xlim = plt.gca().get_xlim()\n",
    "ylim = plt.gca().get_ylim()\n",
    "xx, yy = np.meshgrid(np.linspace(xlim[0], xlim[1]), np.linspace(ylim[0], ylim[1]))\n",
    "Z = clf3.decision_function(np.c_[xx.ravel(), yy.ravel()])\n",
    "Z = Z.reshape(xx.shape)\n",
    "\n",
    "# Plot the decision function Z using contour plot, with\n",
    "# additional contour lines at half levels for clarity (dotted)\n",
    "\n",
    "plt.contour(xx, yy, Z, \n",
    "            levels=[-2, -1.5, -1, -0.5, 0, 0.5, 1, 1.5],  \n",
    "            linestyles=['--', ':', '--', ':', '-', ':', '--', ':'], \n",
    "            colors='k')\n",
    "\n",
    "# Highlight support vectors\n",
    "plt.scatter(clf3.support_vectors_[:, 0], clf3.support_vectors_[:, 1], s=100, facecolors='none', edgecolors='k')\n",
    "\n",
    "plt.title('SVM Decision Function and Margins')\n",
    "plt.show()\n"
   ]
  },
  {
   "cell_type": "code",
   "execution_count": null,
   "metadata": {},
   "outputs": [],
   "source": [
    "# fit the third model variation\n",
    "\n",
    "clf2 = svm.SVC(kernel='linear', C=0.01)  # the smaller the C, the more regularization \n",
    "clf2.fit(X, y)\n",
    "\n",
    "fig = plt.figure()\n",
    "\n",
    "# Plot the points\n",
    "plt.scatter(X[:, 0], X[:, 1], c=y)\n",
    "\n",
    "# Create a mesh (grid of points) for plotting the decision function Z\n",
    "xlim = plt.gca().get_xlim()\n",
    "ylim = plt.gca().get_ylim()\n",
    "xx, yy = np.meshgrid(np.linspace(xlim[0], xlim[1]), np.linspace(ylim[0], ylim[1]))\n",
    "Z = clf2.decision_function(np.c_[xx.ravel(), yy.ravel()])\n",
    "Z = Z.reshape(xx.shape)\n",
    "\n",
    "# Plot the decision function Z using contour plot\n",
    "\n",
    "plt.contour(xx, yy, Z, \n",
    "            levels=[-1.5, -1, -0.5, 0, 0.5, 1, 1.5], \n",
    "            linestyles=[':', '--', ':', '-', ':', '--', ':'], \n",
    "            colors='k')\n",
    "\n",
    "# Highlight support vectors\n",
    "plt.scatter(clf2.support_vectors_[:, 0], clf2.support_vectors_[:, 1], s=100, facecolors='none', edgecolors='k')\n",
    "\n",
    "plt.title('SVM Decision Function and Margins')\n",
    "plt.show()\n"
   ]
  }
 ],
 "metadata": {
  "kernelspec": {
   "display_name": "Python 3",
   "language": "python",
   "name": "python3"
  },
  "language_info": {
   "codemirror_mode": {
    "name": "ipython",
    "version": 3
   },
   "file_extension": ".py",
   "mimetype": "text/x-python",
   "name": "python",
   "nbconvert_exporter": "python",
   "pygments_lexer": "ipython3",
   "version": "3.6.13"
  }
 },
 "nbformat": 4,
 "nbformat_minor": 4
}
